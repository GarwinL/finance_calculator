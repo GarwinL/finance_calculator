{
 "metadata": {
  "language_info": {
   "codemirror_mode": {
    "name": "ipython",
    "version": 3
   },
   "file_extension": ".py",
   "mimetype": "text/x-python",
   "name": "python",
   "nbconvert_exporter": "python",
   "pygments_lexer": "ipython3",
   "version": "3.7.7-final"
  },
  "orig_nbformat": 2,
  "kernelspec": {
   "name": "python3",
   "display_name": "Python 3",
   "language": "python"
  }
 },
 "nbformat": 4,
 "nbformat_minor": 2,
 "cells": [
  {
   "cell_type": "code",
   "execution_count": 1,
   "metadata": {},
   "outputs": [],
   "source": [
    "import tkinter as tk"
   ]
  },
  {
   "cell_type": "code",
   "execution_count": 2,
   "metadata": {},
   "outputs": [],
   "source": [
    "# parameters\n",
    "HEIGHT = 700\n",
    "WIDTH = 900"
   ]
  },
  {
   "cell_type": "code",
   "execution_count": 3,
   "metadata": {},
   "outputs": [],
   "source": [
    "app = tk.Tk()\n",
    "\n",
    "canvas = tk.Canvas(app, height=HEIGHT, width=WIDTH)\n",
    "canvas.pack()\n"
   ]
  },
  {
   "cell_type": "code",
   "execution_count": 4,
   "metadata": {},
   "outputs": [],
   "source": [
    "# Widgets \n",
    "\n",
    "label = tk.Label(app, text='bAV-Rechner', font=('Courier', 20))\n",
    "label.place(relx=0.4, rely=0, relwidth=0.2, relheight=0.05)\n"
   ]
  },
  {
   "cell_type": "code",
   "execution_count": 5,
   "metadata": {},
   "outputs": [],
   "source": [
    "# Dropdown Menu\n",
    "def donothing():\n",
    "   filewin = Toplevel(root)\n",
    "   button = Button(filewin, text=\"Do nothing button\")\n",
    "   button.pack()\n",
    "\n",
    "menubar = tk.Menu(app)\n",
    "filemenu = tk.Menu(menubar, tearoff=0)\n",
    "filemenu.add_command(label=\"Save\", command=donothing)\n",
    "filemenu.add_command(label=\"Save as...\", command=donothing)\n",
    "filemenu.add_command(label=\"Close\", command=donothing)\n",
    "filemenu.add_separator()\n",
    "filemenu.add_command(label=\"Exit\", command=app.quit)\n",
    "menubar.add_cascade(label=\"File\", menu=filemenu)\n",
    "\n",
    "tabmenu = tk.Menu(menubar, tearoff=0)\n",
    "tabmenu.add_command(label=\"Steuerrechner\", command=donothing)\n",
    "tabmenu.add_command(label=\"Rentenrechner\", command=donothing)\n",
    "tabmenu.add_command(label=\"Dividendenrechner\", command=donothing)\n",
    "tabmenu.add_command(label=\"bAV-Rechner\", command=donothing)\n",
    "menubar.add_cascade(label=\"Rechnerauswahl\", menu=tabmenu)\n",
    "\n",
    "app.config(menu=menubar)"
   ]
  },
  {
   "cell_type": "code",
   "execution_count": 8,
   "metadata": {},
   "outputs": [],
   "source": [
    "# Entryfields --------------------------------------------------------------------\n",
    "#Parameter\n",
    "nr_inputs = 8\n",
    "frame_gap = 0.01\n",
    "entry_height = (1.0-2*frame_gap)/(2*nr_inputs)\n",
    "cnt_inputs = 0\n",
    "\n",
    "parameter_frame = tk.Frame(app, bg='#d9d9d9')\n",
    "parameter_frame.place(relx=0.05,rely=0.05, relwidth=0.2, relheight=0.9)\n",
    "\n",
    "# Monatslohn\n",
    "label_sal = tk.Label(parameter_frame, text='Monatslohn', bg='#d9d9d9')\n",
    "label_sal.place(relx=frame_gap,rely=cnt_inputs*entry_height+frame_gap, relwidth=1.0-2*frame_gap, relheight=entry_height)\n",
    "cnt_inputs+=1\n",
    "entry_sal = tk.Entry(parameter_frame)\n",
    "entry_sal.place(relx=0.01,rely=cnt_inputs*entry_height+frame_gap, relwidth=1.0-2*frame_gap, relheight=entry_height)\n",
    "cnt_inputs+=1\n",
    "\n",
    "# Monatsbeitrag\n",
    "label_spend = tk.Label(parameter_frame, text='Monatsbeitrag', bg='#d9d9d9')\n",
    "label_spend.place(relx=frame_gap,rely=cnt_inputs*entry_height+frame_gap, relwidth=1.0-2*frame_gap, relheight=entry_height)\n",
    "cnt_inputs+=1\n",
    "entry_spend = tk.Entry(parameter_frame)\n",
    "entry_spend.place(relx=0.01,rely=cnt_inputs*entry_height+frame_gap, relwidth=1.0-2*frame_gap, relheight=entry_height)\n",
    "cnt_inputs+=1\n",
    "\n",
    "# Arbeitgeberzuschuss\n",
    "label_bonus = tk.Label(parameter_frame, text='Arbeitgeberzuschuss', bg='#d9d9d9')\n",
    "label_bonus.place(relx=frame_gap,rely=cnt_inputs*entry_height+frame_gap, relwidth=1.0-2*frame_gap, relheight=entry_height)\n",
    "cnt_inputs+=1\n",
    "entry_bonus = tk.Entry(parameter_frame)\n",
    "entry_bonus.place(relx=0.01,rely=cnt_inputs*entry_height+frame_gap, relwidth=1.0-2*frame_gap, relheight=entry_height)\n",
    "cnt_inputs+=1\n",
    "\n",
    "# Fondswachstum\n",
    "label_fundgrowth = tk.Label(parameter_frame, text='Fondswachstum (z.B. 1.05)', bg='#d9d9d9')\n",
    "label_fundgrowth.place(relx=frame_gap,rely=cnt_inputs*entry_height+frame_gap, relwidth=1.0-2*frame_gap, relheight=entry_height)\n",
    "cnt_inputs+=1\n",
    "entry_fundgrowth = tk.Entry(parameter_frame)\n",
    "entry_fundgrowth.place(relx=0.01,rely=cnt_inputs*entry_height+frame_gap, relwidth=1.0-2*frame_gap, relheight=entry_height)\n",
    "cnt_inputs+=1\n",
    "\n",
    "# Arbeitsjahre\n",
    "label_workyrs = tk.Label(parameter_frame, text='Arbeitsjahre', bg='#d9d9d9')\n",
    "label_workyrs.place(relx=frame_gap,rely=cnt_inputs*entry_height+frame_gap, relwidth=1.0-2*frame_gap, relheight=entry_height)\n",
    "cnt_inputs+=1\n",
    "entry_workyrs = tk.Entry(parameter_frame)\n",
    "entry_workyrs.place(relx=0.01,rely=cnt_inputs*entry_height+frame_gap, relwidth=1.0-2*frame_gap, relheight=entry_height)\n",
    "cnt_inputs+=1\n",
    "\n",
    "# Rentenjahre\n",
    "label_retyrs = tk.Label(parameter_frame, text='Rentenjahre', bg='#d9d9d9')\n",
    "label_retyrs.place(relx=frame_gap,rely=cnt_inputs*entry_height+frame_gap, relwidth=1.0-2*frame_gap, relheight=entry_height)\n",
    "cnt_inputs+=1\n",
    "entry_retyrs = tk.Entry(parameter_frame)\n",
    "entry_retyrs.place(relx=0.01,rely=cnt_inputs*entry_height+frame_gap, relwidth=1.0-2*frame_gap, relheight=entry_height)\n",
    "cnt_inputs+=1\n",
    "\n",
    "# Rentenanpassung\n",
    "label_retgrowth = tk.Label(parameter_frame, text='Rentenanpassung', bg='#d9d9d9')\n",
    "label_retgrowth.place(relx=frame_gap,rely=cnt_inputs*entry_height+frame_gap, relwidth=1.0-2*frame_gap, relheight=entry_height)\n",
    "cnt_inputs+=1\n",
    "entry_retgrowth = tk.Entry(parameter_frame)\n",
    "entry_retgrowth.place(relx=0.01,rely=cnt_inputs*entry_height+frame_gap, relwidth=1.0-2*frame_gap, relheight=entry_height)\n",
    "cnt_inputs+=1\n",
    "\n",
    "# Durchschnittsentgelt (2020: 40551€ = 1 Rentenpunkt)\n",
    "label_retlost = tk.Label(parameter_frame, text='Durchschnittsentgelt(2020: 40551€)', bg='#d9d9d9')\n",
    "label_retlost.place(relx=frame_gap,rely=cnt_inputs*entry_height+frame_gap, relwidth=1.0-2*frame_gap, relheight=entry_height)\n",
    "cnt_inputs+=1\n",
    "entry_retlost = tk.Entry(parameter_frame)\n",
    "entry_retlost.place(relx=0.01,rely=cnt_inputs*entry_height+frame_gap, relwidth=1.0-2*frame_gap, relheight=entry_height)\n",
    "cnt_inputs+=1"
   ]
  },
  {
   "cell_type": "code",
   "execution_count": 9,
   "metadata": {},
   "outputs": [],
   "source": [
    "result_frame = tk.Frame(app, bg='#d9d9d9')\n",
    "result_frame.place(relx=0.3,rely=0.15, relwidth=0.65, relheight=0.8)\n",
    "\n",
    "result_label = tk.Label(result_frame, bg='#d9d9d9', text = 'See Result here')\n",
    "result_label.place(relx=0.4,rely=0.5, relwidth=0.2, relheight=0.1)"
   ]
  },
  {
   "cell_type": "code",
   "execution_count": 10,
   "metadata": {},
   "outputs": [
    {
     "output_type": "stream",
     "name": "stdout",
     "text": [
      "864.0 1030.281 4527.432 6696.0\n13117.713\n864.0 1030.281 4527.432 6696.0\n15766.820539999999\n"
     ]
    }
   ],
   "source": [
    "# Helper Methods ----------------------------------------------\n",
    "# Value growth with or without yearly savings\n",
    "def calc_value_growth(value, growth_rate, years, permanent_savings=False):\n",
    "    val_sum = 0\n",
    "    if(permanent_savings):\n",
    "        for i in range(years):\n",
    "            val_sum += value*(growth_rate**(years-i))\n",
    "    else:\n",
    "        val_sum = value*(growth_rate**years)\n",
    "\n",
    "    return val_sum\n",
    "\n",
    "# Calculation of monthly rent: \n",
    "# Monatliche Rentenhöhe = Entgeltpunkte x Zugangsfaktor x aktueller Rentenwert x Rentenartfaktor\n",
    "# Entgeltpunkte: Rentenpunkte\n",
    "# aktueller Rentenwert: 2020: 1 Punkt = 34.19€ Rente/Monat\n",
    "# Rentenartfaktor: Alter/volle Erbwerbsminderung = 1.0, teilweise Erbwerbsminderungsrente = 0.5, Halbwaisenrente = 0.1\n",
    "# Zugangsfaktor: Zu- (später Renteneintritt) und Abschläge (früherer Renteneintritt: 0.3%/Monat), ohne = 1.0\n",
    "def calc_monthly_pension(working_yrs, input_sal, average_sal=40551, pensionpoints_value=34.19):\n",
    "    return (input_sal/average_sal)*working_yrs*pensionpoints_value\n",
    "#print(calc_monthly_pension(40, 60000))\n",
    "\n",
    "\n",
    "# Abgaben ---------------------------------------------------\n",
    "#def calc_net_income(monthly_sal):\n",
    "\n",
    "# Arbeitslosenversicherung: 2,4% (50%)\n",
    "# Pflegeversicherung: 3,05% (50%) + Kinderloszuschlag (0,25%) - Beitragsbemessungsgrenze: 4837\n",
    "# Gesetzliche KV: 14,6% + Zusatzbeitrag (50%) - Beitragsbemessungsgrenze: 4837\n",
    "# Rentenversicherung: 18,6% (50%)\n",
    "def calc_social_tax(sal, yearly=False):\n",
    "    if(yearly):\n",
    "        l_care = min(sal,58044)*0.01775\n",
    "        l_health = min(sal,58044)* 0.078\n",
    "    else:\n",
    "        l_care = min(sal,4837)*0.01775\n",
    "        l_health = min(sal,4837)* 0.078\n",
    "\n",
    "    l_jobless = sal*0.012\n",
    "    l_pension = sal*0.093\n",
    "\n",
    "    print(str(l_jobless) + ' ' + str(l_care) + ' ' + str(l_health) + ' ' + str(l_pension))\n",
    "    return l_jobless+l_care+l_health+l_pension\n",
    "\n",
    "# Steuern: Basis 2020 \n",
    "def calc_tax(yearly_sal):\n",
    "    if(yearly_sal<=9408):\n",
    "        return 0\n",
    "    elif(yearly_sal<=14532):\n",
    "        y = (yearly_sal-9408)/10000\n",
    "        return (972.87*y+1400)*y\n",
    "    elif(yearly_sal<=57051):\n",
    "        y = (yearly_sal-14532)/10000\n",
    "        return (212.02*y+2397)*y+972.79\n",
    "    elif(yearly_sal<=270500):\n",
    "        return 0.42*yearly_sal-8963.74\n",
    "    else:\n",
    "        return 0.45*yearly_sal-17078.74\n",
    "\n",
    "print(str(calc_social_tax(72000,True)))\n",
    "print(str(calc_tax(72000-calc_social_tax(72000,True))))\n"
   ]
  },
  {
   "cell_type": "code",
   "execution_count": 11,
   "metadata": {},
   "outputs": [],
   "source": [
    "# Buttons\n",
    "def calculate_monthly_rent(value, growth_rate, years):\n",
    "    l_val = float(value)\n",
    "    l_growth_rate = float(growth_rate)\n",
    "    l_years = int(years)   \n",
    "    result_label['text'] = str(calculate_value_growth(l_val, l_growth_rate, l_years, True))\n",
    "\n",
    "button = tk.Button(app, text='Calculate', bg='#33cc33',font=40, command=lambda: calculate_monthly_rent(entry_sal.get(), entry_fundgrowth.get(), entry_workyrs.get()))\n",
    "button.place(relx=0.5, rely=0.05, relwidth=0.2, relheight=0.05)\n"
   ]
  },
  {
   "cell_type": "code",
   "execution_count": 12,
   "metadata": {},
   "outputs": [
    {
     "output_type": "stream",
     "name": "stderr",
     "text": [
      "Exception in Tkinter callback\n",
      "Traceback (most recent call last):\n",
      "  File \"C:\\Users\\garwi\\Anaconda3\\lib\\tkinter\\__init__.py\", line 1705, in __call__\n",
      "    return self.func(*args)\n",
      "  File \"<ipython-input-5-c79f4c338850>\", line 3, in donothing\n",
      "    filewin = Toplevel(root)\n",
      "NameError: name 'Toplevel' is not defined\n",
      "Exception in Tkinter callback\n",
      "Traceback (most recent call last):\n",
      "  File \"C:\\Users\\garwi\\Anaconda3\\lib\\tkinter\\__init__.py\", line 1705, in __call__\n",
      "    return self.func(*args)\n",
      "  File \"<ipython-input-5-c79f4c338850>\", line 3, in donothing\n",
      "    filewin = Toplevel(root)\n",
      "NameError: name 'Toplevel' is not defined\n",
      "Exception in Tkinter callback\n",
      "Traceback (most recent call last):\n",
      "  File \"C:\\Users\\garwi\\Anaconda3\\lib\\tkinter\\__init__.py\", line 1705, in __call__\n",
      "    return self.func(*args)\n",
      "  File \"<ipython-input-5-c79f4c338850>\", line 3, in donothing\n",
      "    filewin = Toplevel(root)\n",
      "NameError: name 'Toplevel' is not defined\n"
     ]
    }
   ],
   "source": [
    "app.mainloop()"
   ]
  },
  {
   "cell_type": "code",
   "execution_count": null,
   "metadata": {},
   "outputs": [],
   "source": []
  }
 ]
}